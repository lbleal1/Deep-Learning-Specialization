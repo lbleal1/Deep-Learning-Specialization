{
  "nbformat": 4,
  "nbformat_minor": 0,
  "metadata": {
    "colab": {
      "name": "Unrolled_Building_An_L-Layered_Neural_Network.ipynb",
      "provenance": [],
      "collapsed_sections": [],
      "toc_visible": true
    },
    "kernelspec": {
      "name": "python3",
      "display_name": "Python 3"
    }
  },
  "cells": [
    {
      "cell_type": "markdown",
      "metadata": {
        "id": "kXqmv0cSDPcb"
      },
      "source": [
        "note: this notebook is created for understanding the main model function and not meant to be run in this form. This can be run via the other notebooks. "
      ]
    },
    {
      "cell_type": "markdown",
      "metadata": {
        "id": "S_-9no3y3gq8"
      },
      "source": [
        "# Main Model function\n",
        "\n",
        "`parameters = L_layer_model(X, Y, layers_dims, learning_rate = 0.0075, num_iterations = 3000, print_cost=False)`\n",
        "\n",
        "**description:** Implements a L-layer neural network: [LINEAR->RELU]*(L-1)->LINEAR->SIGMOID.\n",
        "    \n",
        "**input:**\n",
        "*  X - data, numpy array of shape (num_px * num_px * 3, number of examples)\n",
        "* Y - true \"label\" vector (containing 0 if cat, 1 if non-cat), of shape (1, number of examples)\n",
        "* layers_dims - list containing the input size and each layer size, of length (number of layers + 1).\n",
        "* learning_rate - learning rate of the gradient descent update rule\n",
        "* num_iterations - number of iterations of the optimization loop\n",
        "* print_cost - if True, it prints the cost every 100 steps\n",
        "    \n",
        "**output:**\n",
        "* parameters - parameters learnt by the model. They can then be used to predict.\n"
      ]
    },
    {
      "cell_type": "code",
      "metadata": {
        "id": "ewJCcY__3V9m"
      },
      "source": [
        "### CONSTANTS ###\n",
        "layers_dims = [12288, 20, 7, 5, 1] \n",
        "#  4-layer model \n",
        "# every element corresponds to the units per layer"
      ],
      "execution_count": null,
      "outputs": []
    },
    {
      "cell_type": "code",
      "metadata": {
        "id": "R632mRI73dgq"
      },
      "source": [
        "# GRADED FUNCTION: L_layer_model\n",
        "\n",
        "def L_layer_model(X, Y, layers_dims, learning_rate = 0.0075, num_iterations = 3000, print_cost=False):#lr was 0.009\n",
        "\n",
        "    np.random.seed(1)\n",
        "    costs = []                         # keep track of cost\n",
        "    \n",
        "    # Parameters initialization. (≈ 1 line of code)\n",
        "\n",
        "    parameters = initialize_parameters_deep(layers_dims)\n",
        "\n",
        "    # Loop (gradient descent)\n",
        "    for i in range(0, num_iterations):\n",
        "\n",
        "        # Forward propagation: [LINEAR -> RELU]*(L-1) -> LINEAR -> SIGMOID.\n",
        "        AL, caches = L_model_forward(X, parameters)\n",
        "\n",
        "        # Compute cost.\n",
        "        cost = compute_cost(AL, Y)\n",
        "    \n",
        "        # Backward propagation.\n",
        "        grads = L_model_backward(AL, Y, caches)\n",
        "\n",
        "        # Update parameters.\n",
        "        parameters = update_parameters(parameters, grads, learning_rate)\n",
        "                \n",
        "        # Print the cost every 100 training example\n",
        "        if print_cost and i % 100 == 0:\n",
        "            print (\"Cost after iteration %i: %f\" %(i, cost))\n",
        "        if print_cost and i % 100 == 0:\n",
        "            costs.append(cost)\n",
        "            \n",
        "    # plot the cost\n",
        "    plt.plot(np.squeeze(costs))\n",
        "    plt.ylabel('cost')\n",
        "    plt.xlabel('iterations (per hundreds)')\n",
        "    plt.title(\"Learning rate =\" + str(learning_rate))\n",
        "    plt.show()\n",
        "    \n",
        "    return parameters"
      ],
      "execution_count": null,
      "outputs": []
    },
    {
      "cell_type": "markdown",
      "metadata": {
        "id": "xjzYmyAW3lG5"
      },
      "source": [
        "# Initialize parameters W and b\n",
        "\n",
        "`parameters = initialize_parameters_deep(layers_dims)`\n",
        "\n",
        "**input:** \n",
        "* layer_dims - python array (list) containing the dimensions of each layer in our network\n",
        "\n",
        "**output:** \n",
        "* parameters - python dictionary containing your parameters \"W1\", \"b1\", ..., \"WL\", \"bL\":\n",
        "  * Wl - weight matrix of shape (layer_dims[l], layer_dims[l-1])\n",
        "  * bl - bias vector of shape (layer_dims[l], 1)\n"
      ]
    },
    {
      "cell_type": "code",
      "metadata": {
        "id": "BaJ_m9iH3pcP"
      },
      "source": [
        "# GRADED FUNCTION: initialize_parameters_deep\n",
        "\n",
        "def initialize_parameters_deep(layer_dims):\n",
        "    \n",
        "    np.random.seed(3)\n",
        "    parameters = {}\n",
        "    L = len(layer_dims)            # number of layers in the network\n",
        "\n",
        "    for l in range(1, L):\n",
        "        parameters['W' + str(l)] = np.random.randn(layer_dims[l], layer_dims[l-1]) * 0.01\n",
        "        parameters['b' + str(l)] = np.zeros((layer_dims[l], 1))\n",
        "        \n",
        "        assert(parameters['W' + str(l)].shape == (layer_dims[l], layer_dims[l-1]))\n",
        "        assert(parameters['b' + str(l)].shape == (layer_dims[l], 1))\n",
        "\n",
        "        \n",
        "    return parameters"
      ],
      "execution_count": null,
      "outputs": []
    },
    {
      "cell_type": "markdown",
      "metadata": {
        "id": "A3QCM9DS4KiD"
      },
      "source": [
        "# Do Grad Descent for *i* iterations\n",
        "\n",
        "```\n",
        "for i in range(0, num_iterations):\n",
        "```"
      ]
    },
    {
      "cell_type": "markdown",
      "metadata": {
        "id": "Sp5k1hkC4NAP"
      },
      "source": [
        "## Forward Prop\n",
        "\n",
        "```\n",
        "AL, caches = L_model_forward(X, parameters)\n",
        "```\n",
        "\n",
        "**description:** Implement forward propagation for the [LINEAR->RELU]*(L-1)->LINEAR->SIGMOID computation\n",
        "\n",
        "**input:** \n",
        "* X \n",
        "  - train feature instances\n",
        "  - data, numpy array of shape (input size, number of examples)\n",
        "* parameters - initialized (from before) for Layer 1 then updated ones per iterations for Layers L-1\n",
        "\n",
        "**output:**\n",
        "* AL - activation result from the last layer ($A^{[L]}$)\n",
        "* caches - contains:\n",
        "   * linear_cache - A, W, b\n",
        "   * activation_cache - results of activation"
      ]
    },
    {
      "cell_type": "code",
      "metadata": {
        "id": "1J8vw9Tq5uMR"
      },
      "source": [
        "# GRADED FUNCTION: L_model_forward\n",
        "\n",
        "def L_model_forward(X, parameters):\n",
        "\n",
        "    caches = []\n",
        "    A = X\n",
        "    L = len(parameters) // 2                  # number of layers in the neural network\n",
        "    \n",
        "    # for the L-1 layers\n",
        "    # Implement [LINEAR -> RELU]*(L-1). Add \"cache\" to the \"caches\" list.\n",
        "    for l in range(1, L):\n",
        "        A_prev = A \n",
        "        A, cache = linear_activation_forward(A_prev, parameters['W' + str(l)], parameters['b' + str(l)], activation = \"relu\")\n",
        "        caches.append(cache)\n",
        "\n",
        "    \n",
        "    # for the last layer\n",
        "    AL, cache = linear_activation_forward(A, parameters['W' + str(L)], parameters['b' + str(L)], activation = \"sigmoid\")\n",
        "    caches.append(cache)\n",
        "\n",
        "    \n",
        "    assert(AL.shape == (1,X.shape[1]))\n",
        "            \n",
        "    return AL, caches"
      ],
      "execution_count": null,
      "outputs": []
    },
    {
      "cell_type": "markdown",
      "metadata": {
        "id": "zjyhSy5I5yOA"
      },
      "source": [
        "### `linear_activation_forward`\n",
        "\n",
        "**description:**  \n",
        "* Implements the forward propagation for the LINEAR->ACTIVATION layer \n",
        "* this is done per layer\n",
        "\n",
        "**function call:** `A, cache = linear_activation_forward(A_prev, W, b, activation)`\n",
        "\n",
        "**input:**\n",
        "* A_prev - activations from previous layer (or input data): (size of previous layer, number of examples)\n",
        "* W - weights matrix: numpy array of shape (size of current layer, size of previous layer)\n",
        "* b - bias vector, numpy array of shape (size of the current layer, 1)\n",
        "* activation -- the activation to be used in this layer, stored as a text string: \"sigmoid\" or \"relu\"\n",
        "\n",
        "**output:**\n",
        "* A - the output of the activation function, also called the post-activation value \n",
        "* cache \n",
        "  - a python tuple containing \"linear_cache\" and \"activation_cache\"; stored for computing the backward pass efficiently\n",
        "  - linear_cache contains (A, W, b)\n",
        "  - activation_cache contains Z which is the result of `linear_forward(A_prev, W, b)`"
      ]
    },
    {
      "cell_type": "code",
      "metadata": {
        "id": "S9tEkmRX4jda"
      },
      "source": [
        "def linear_activation_forward(A_prev, W, b, activation):\n",
        "    \n",
        "    if activation == \"sigmoid\":\n",
        "        Z, linear_cache = linear_forward(A_prev, W, b)\n",
        "        A, activation_cache = sigmoid(Z)\n",
        "    \n",
        "    elif activation == \"relu\":\n",
        "        Z, linear_cache = linear_forward(A_prev, W, b)\n",
        "        A, activation_cache = relu(Z)\n",
        "    \n",
        "    assert (A.shape == (W.shape[0], A_prev.shape[1]))\n",
        "    cache = (linear_cache, activation_cache)\n",
        "\n",
        "    return A, cache"
      ],
      "execution_count": null,
      "outputs": []
    },
    {
      "cell_type": "markdown",
      "metadata": {
        "id": "ojIkT_fe5_NC"
      },
      "source": [
        "#### `linear_forward`\n",
        "\n",
        "**description:** Implement the linear part of a layer's forward propagation.\n",
        "\n",
        "**function call:** `Z, cache = linear_forward(A, W, b)`\n",
        "\n",
        "**input:**\n",
        "* A - activations from previous layer (or input data): (size of previous layer, number of examples)\n",
        "* W - weights matrix: numpy array of shape (size of current layer, size of previous layer)\n",
        "* b - bias vector, numpy array of shape (size of the current layer, 1)\n",
        "\n",
        "**output:**\n",
        "* Z - the input of the activation function, also called pre-activation parameter \n",
        "* cache - a python tuple containing \"A\", \"W\" and \"b\" ; stored for computing the backward pass efficiently\n"
      ]
    },
    {
      "cell_type": "code",
      "metadata": {
        "id": "j_d0aXkP6CcM"
      },
      "source": [
        "def linear_forward(A, W, b):\n",
        "    \n",
        "    Z = np.dot(W, A) + b\n",
        "    \n",
        "    assert(Z.shape == (W.shape[0], A.shape[1]))\n",
        "    cache = (A, W, b)\n",
        "    \n",
        "    return Z, cache"
      ],
      "execution_count": null,
      "outputs": []
    },
    {
      "cell_type": "markdown",
      "metadata": {
        "id": "4UZ6UAt89FGc"
      },
      "source": [
        "## Compute cost function\n",
        "\n",
        "`cost = compute_cost(AL, Y)`\n",
        "\n",
        "**input:**\n",
        "* AL \n",
        "  - activation result from the last layer ($A^{[L]}$) \n",
        "  - probability vector corresponding to your label predictions\n",
        "  - shape is (1, number of examples)\n",
        "\n",
        "* Y \n",
        "  - the target labels\n",
        "  - true \"label\" vector (for example: containing 0 if non-cat, 1 if cat)\n",
        "  - shape is (1, number of examples)\n",
        "\n",
        "**output:** \n",
        "* cost - cross-entropy cost "
      ]
    },
    {
      "cell_type": "code",
      "metadata": {
        "id": "lR8u1iKY9i8O"
      },
      "source": [
        "def compute_cost(AL, Y):\n",
        "    \n",
        "    m = Y.shape[1]\n",
        "\n",
        "    # Compute loss from aL and y.\n",
        "    cost = -(1/m) * np.sum( Y*np.log(AL) + (1-Y)*np.log(1-AL))\n",
        "    \n",
        "    cost = np.squeeze(cost)      # To make sure your cost's shape is what we expect (e.g. this turns [[17]] into 17).\n",
        "    assert(cost.shape == ())\n",
        "    \n",
        "    return cost"
      ],
      "execution_count": null,
      "outputs": []
    },
    {
      "cell_type": "markdown",
      "metadata": {
        "id": "t8ZKdF1I-Esw"
      },
      "source": [
        "## Backprop\n",
        "\n",
        "` grads = L_model_backward(AL, Y, caches)`\n",
        "\n",
        "**description:**\n",
        "* Implement the backward propagation for the [LINEAR->RELU] * (L-1) -> LINEAR -> SIGMOID group\n",
        "\n",
        "**input:**\n",
        "* AL \n",
        "  - probability vector, output of the forward propagation (L_model_forward())\n",
        "* Y \n",
        "  - true \"label\" vector (containing 0 if non-cat, 1 if cat)\n",
        "* caches \n",
        "  - list containing caches per layer\n",
        "\n",
        "**output:**\n",
        "*  grads - A dictionary with the gradients\n",
        "  * grads[\"dA\" + str(l)] = ... \n",
        "  * grads[\"dW\" + str(l)] = ...\n",
        "  * grads[\"db\" + str(l)] = ... "
      ]
    },
    {
      "cell_type": "code",
      "metadata": {
        "id": "sR5_dhpc-Ie6"
      },
      "source": [
        "def L_model_backward(AL, Y, caches):\n",
        "\n",
        "    grads = {}\n",
        "    L = len(caches) # the number of layers\n",
        "    m = AL.shape[1]\n",
        "    Y = Y.reshape(AL.shape) # after this line, Y is the same shape as AL\n",
        "    \n",
        "    # Initializing the backpropagation\n",
        "    dAL = - (np.divide(Y, AL) - np.divide(1 - Y, 1 - AL))\n",
        "    \n",
        "    # Lth layer (SIGMOID -> LINEAR) gradients. Inputs: \"dAL, current_cache\". Outputs: \"grads[\"dAL-1\"], grads[\"dWL\"], grads[\"dbL\"]\n",
        "    current_cache = caches[L//2]\n",
        "    grads[\"dA\" + str(L-1)], grads[\"dW\" + str(L)], grads[\"db\" + str(L)] = linear_activation_backward(dAL, current_cache, activation = \"sigmoid\")\n",
        "    \n",
        "    # Loop from l=L-2 to l=0\n",
        "    for l in reversed(range(L-1)):\n",
        "        # lth layer: (RELU -> LINEAR) gradients.\n",
        "        # Inputs: \"grads[\"dA\" + str(l + 1)], current_cache\". Outputs: \"grads[\"dA\" + str(l)] , grads[\"dW\" + str(l + 1)] , grads[\"db\" + str(l + 1)] \n",
        "        current_cache = caches[l]\n",
        "        dA_prev_temp, dW_temp, db_temp = linear_activation_backward(grads[\"dA\" + str(l +1)], current_cache, activation = \"relu\")\n",
        "        grads[\"dA\" + str(l)] = dA_prev_temp\n",
        "        grads[\"dW\" + str(l + 1)] = dW_temp\n",
        "        grads[\"db\" + str(l + 1)] = db_temp\n",
        "\n",
        "    return grads"
      ],
      "execution_count": null,
      "outputs": []
    },
    {
      "cell_type": "markdown",
      "metadata": {
        "id": "1RF6qB6Z_YK5"
      },
      "source": [
        "### linear_activation_backward\n",
        "\n",
        "**description:**\n",
        "* Implement the backward propagation for the LINEAR->ACTIVATION layer.\n",
        "\n",
        "**function call:** dA_prev, dW, db = linear_activation_backward(dA, cache, activation)\n",
        "\n",
        "**input:**\n",
        "* dA -- post-activation gradient for current layer l \n",
        "* cache -- tuple of values (linear_cache, activation_cache) we store for computing backward propagation efficiently\n",
        "* activation -- the activation to be used in this layer, stored as a text string: \"sigmoid\" or \"relu\"\n",
        "\n",
        "**output:**\n",
        "* dA_prev - Gradient of the cost with respect to the activation (of the previous layer l-1), same shape as A_prev\n",
        "* dW - Gradient of the cost with respect to W (current layer l), same shape as W\n",
        "* db - Gradient of the cost with respect to b (current layer l), same shape as b"
      ]
    },
    {
      "cell_type": "code",
      "metadata": {
        "id": "P53Agcfc_enp"
      },
      "source": [
        "def linear_activation_backward(dA, cache, activation):\n",
        "    linear_cache, activation_cache = cache\n",
        "    \n",
        "    if activation == \"relu\":\n",
        "        dZ = relu_backward(dA, activation_cache)\n",
        "        dA_prev, dW, db = linear_backward(dZ, linear_cache)\n",
        "        \n",
        "    elif activation == \"sigmoid\":\n",
        "        dZ = sigmoid_backward(dA, activation_cache)\n",
        "        dA_prev, dW, db = linear_backward(dZ, linear_cache)\n",
        "    \n",
        "    return dA_prev, dW, db"
      ],
      "execution_count": null,
      "outputs": []
    },
    {
      "cell_type": "markdown",
      "metadata": {
        "id": "jY3gmU5QAdmx"
      },
      "source": [
        "#### linear_backward\n",
        "\n",
        "**description:**\n",
        "* Implement the linear portion of backward propagation for a single layer (layer l)\n",
        "\n",
        "**function call:** `dA_prev, dW, db = linear_backward(dZ, cache)`\n",
        "\n",
        "**input:**\n",
        "* dZ - Gradient of the cost with respect to the linear output (of current layer l)\n",
        "* cache - tuple of values (A_prev, W, b) coming from the forward propagation in the current layer\n",
        "\n",
        "**output:**\n",
        "* dA_prev - Gradient of the cost with respect to the activation (of the previous layer l-1), same shape as A_prev\n",
        "* dW - Gradient of the cost with respect to W (current layer l), same shape as W\n",
        "* db - Gradient of the cost with respect to b (current layer l), same shape as b"
      ]
    },
    {
      "cell_type": "code",
      "metadata": {
        "id": "75d-tjt-AlEw"
      },
      "source": [
        "def linear_backward(dZ, cache):\n",
        "\n",
        "    A_prev, W, b = cache\n",
        "    m = A_prev.shape[1]\n",
        "\n",
        "    dW = (1/m) * np.dot(dZ, A_prev.T)\n",
        "    db = (1/m) * np.sum(dZ, axis=1, keepdims = True)\n",
        "    dA_prev = np.dot(W.T, dZ)\n",
        "    \n",
        "    assert (dA_prev.shape == A_prev.shape)\n",
        "    assert (dW.shape == W.shape)\n",
        "    assert (db.shape == b.shape)\n",
        "    \n",
        "    return dA_prev, dW, db"
      ],
      "execution_count": null,
      "outputs": []
    },
    {
      "cell_type": "markdown",
      "metadata": {
        "id": "nll5Qxi_BMHk"
      },
      "source": [
        "## Update Parameters\n",
        "\n",
        "`parameters = update_parameters(parameters, grads, learning_rate)`\n",
        "\n",
        "**description:**\n",
        "Update parameters using gradient descent\n",
        "\n",
        "**input:**\n",
        "* parameters - python dictionary containing your parameters \n",
        "* grads - python dictionary containing your gradients, output of L_model_backward\n",
        "\n",
        "**output:**\n",
        "* parameters - python dictionary containing your updated parameters \n",
        "  * parameters[\"W\" + str(l)] = ... \n",
        "  * parameters[\"b\" + str(l)] = ..."
      ]
    },
    {
      "cell_type": "code",
      "metadata": {
        "id": "AojJWTS5BUw-"
      },
      "source": [
        "def update_parameters(parameters, grads, learning_rate):\n",
        "    L = len(parameters) // 2 # number of layers in the neural network\n",
        "\n",
        "    # Update rule for each parameter. Use a for loop.\n",
        "    for l in range(L):\n",
        "        parameters[\"W\" + str(l+1)] = parameters['W'+str(l+1)] - learning_rate*grads[\"dW\" + str(l+1)]\n",
        "        parameters[\"b\" + str(l+1)] = parameters['b'+str(l+1)] - learning_rate*grads[\"db\" + str(l+1)]\n",
        "\n",
        "    return parameters"
      ],
      "execution_count": null,
      "outputs": []
    }
  ]
}